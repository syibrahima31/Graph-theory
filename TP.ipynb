{
 "cells": [
  {
   "cell_type": "markdown",
   "metadata": {},
   "source": [
    "#### Partie I "
   ]
  },
  {
   "cell_type": "code",
   "execution_count": 21,
   "metadata": {},
   "outputs": [],
   "source": [
    "import numpy as np "
   ]
  },
  {
   "cell_type": "code",
   "execution_count": 22,
   "metadata": {},
   "outputs": [
    {
     "data": {
      "text/plain": [
       "list"
      ]
     },
     "execution_count": 22,
     "metadata": {},
     "output_type": "execute_result"
    }
   ],
   "source": [
    "#### Question 1 \n",
    "\n",
    "A = [\n",
    "    [0, 0, 1, 0, 1], \n",
    "    [0, 0, 1, 0, 1], \n",
    "    [1, 1, 0, 1, 1], \n",
    "    [0, 0, 1, 0, 0],\n",
    "    [1, 1, 1, 0, 0],\n",
    "]\n",
    "type(A)"
   ]
  },
  {
   "cell_type": "code",
   "execution_count": 35,
   "metadata": {},
   "outputs": [
    {
     "data": {
      "text/plain": [
       "numpy.ndarray"
      ]
     },
     "execution_count": 35,
     "metadata": {},
     "output_type": "execute_result"
    }
   ],
   "source": [
    "A_np = np.array([\n",
    "    [0, 0, 1, 0, 1], \n",
    "    [0, 0, 1, 0, 1], \n",
    "    [1, 1, 0, 1, 1], \n",
    "    [0, 0, 1, 0, 0],\n",
    "    [1, 1, 1, 0, 0],\n",
    "])\n",
    "type(A_np)"
   ]
  },
  {
   "cell_type": "code",
   "execution_count": 24,
   "metadata": {},
   "outputs": [],
   "source": [
    "#### Question \n",
    "\n",
    "def arrete(A:list, s_intiale:int , s_final:int) -> bool : \n",
    "    \"\"\"detecte la presence d'une arrete entre deux sommet \n",
    "\n",
    "    Args:\n",
    "        A (list): la matrice d'adjacence du graphe \n",
    "        s_intiale (int): le sommet initiale \n",
    "        s_final (int): le sommet finale \n",
    "\n",
    "    Returns:\n",
    "        bool: la fonction retourne True s'il ya presence d'une arrete et False dans le cas contraire \n",
    "    \"\"\"\n",
    "    if A[s_intiale][s_final]== 1 : \n",
    "        return True \n",
    "    return False \n"
   ]
  },
  {
   "cell_type": "code",
   "execution_count": 7,
   "metadata": {},
   "outputs": [
    {
     "data": {
      "text/plain": [
       "True"
      ]
     },
     "execution_count": 7,
     "metadata": {},
     "output_type": "execute_result"
    }
   ],
   "source": [
    "arrete(A, 1,4)"
   ]
  },
  {
   "cell_type": "code",
   "execution_count": 8,
   "metadata": {},
   "outputs": [
    {
     "name": "stdout",
     "output_type": "stream",
     "text": [
      "Help on function arrete in module __main__:\n",
      "\n",
      "arrete(A: list, s_intiale: int, s_final: int) -> bool\n",
      "    detecte la presence d'une arrete entre deux sommet \n",
      "    \n",
      "    Args:\n",
      "        A (list): la matrice d'adjacence du graphe \n",
      "        s_intiale (int): le sommet initiale \n",
      "        s_final (int): le sommet finale \n",
      "    \n",
      "    Returns:\n",
      "        bool: la fonction retourne True s'il ya presence d'une arrete et False dans le cas contraire\n",
      "\n"
     ]
    }
   ],
   "source": [
    "help(arrete)"
   ]
  },
  {
   "cell_type": "code",
   "execution_count": 9,
   "metadata": {},
   "outputs": [],
   "source": [
    "assert arrete(A, 1,2) == True \n",
    "assert arrete(A, 3,4) == False \n",
    "assert arrete(A, 4,0) == True \n"
   ]
  },
  {
   "cell_type": "code",
   "execution_count": 10,
   "metadata": {},
   "outputs": [],
   "source": [
    "def voisin(A, sommet): \n",
    "\n",
    "    L = A[sommet]\n",
    "\n",
    "    n = len(A)\n",
    "\n",
    "    i = 0 \n",
    "\n",
    "    while i < n : \n",
    "        if arrete(A,sommet,i) == 1 : \n",
    "            print(f\"le sommet s_{sommet} est voisin avec s_{i}\")\n",
    "        \n",
    "        i += 1 \n",
    "\n"
   ]
  },
  {
   "cell_type": "code",
   "execution_count": 11,
   "metadata": {},
   "outputs": [
    {
     "name": "stdout",
     "output_type": "stream",
     "text": [
      "le sommet s_2 est voisin avec s_0\n",
      "le sommet s_2 est voisin avec s_1\n",
      "le sommet s_2 est voisin avec s_3\n",
      "le sommet s_2 est voisin avec s_4\n"
     ]
    }
   ],
   "source": [
    "voisin(A, 2)"
   ]
  },
  {
   "cell_type": "code",
   "execution_count": 12,
   "metadata": {},
   "outputs": [],
   "source": [
    "## Partie II \n"
   ]
  },
  {
   "cell_type": "code",
   "execution_count": 29,
   "metadata": {},
   "outputs": [],
   "source": [
    "# premier implementation de dgre sans  utiliser la fonction \n",
    "def degre(A, s): \n",
    "    L = A[s]\n",
    "    compteur = 0 \n",
    "\n",
    "    for i in L : \n",
    "        if i ==1 : \n",
    "            compteur +=1 \n",
    "\n",
    "    return compteur"
   ]
  },
  {
   "cell_type": "code",
   "execution_count": 30,
   "metadata": {},
   "outputs": [],
   "source": [
    "# dexieme implementation (utiliser la fonction arrete )"
   ]
  },
  {
   "cell_type": "code",
   "execution_count": 32,
   "metadata": {},
   "outputs": [],
   "source": [
    "def degre_bis(A, s): \n",
    "    n = len(A)\n",
    "    compteur = 0 \n",
    "    i= 0 \n",
    "\n",
    "    while i < n: \n",
    "        if arrete(A, s, i) == True: \n",
    "            compteur += 1 \n",
    "        i += 1 \n",
    "    return compteur\n",
    "        \n",
    "\n",
    "\n",
    "\n"
   ]
  },
  {
   "cell_type": "code",
   "execution_count": 34,
   "metadata": {},
   "outputs": [
    {
     "data": {
      "text/plain": [
       "1"
      ]
     },
     "execution_count": 34,
     "metadata": {},
     "output_type": "execute_result"
    }
   ],
   "source": [
    "degre_bis(A, 3)"
   ]
  },
  {
   "cell_type": "code",
   "execution_count": 36,
   "metadata": {},
   "outputs": [],
   "source": [
    "def degre_np(A, s): \n",
    "    return A[s].sum()"
   ]
  },
  {
   "cell_type": "code",
   "execution_count": 38,
   "metadata": {},
   "outputs": [
    {
     "data": {
      "text/plain": [
       "1"
      ]
     },
     "execution_count": 38,
     "metadata": {},
     "output_type": "execute_result"
    }
   ],
   "source": [
    "degre_np(A_np, 3)"
   ]
  },
  {
   "cell_type": "code",
   "execution_count": 42,
   "metadata": {},
   "outputs": [
    {
     "name": "stdout",
     "output_type": "stream",
     "text": [
      "le degre de s_0 est : 2\n",
      "le degre de s_1 est : 2\n",
      "le degre de s_2 est : 4\n",
      "le degre de s_3 est : 1\n",
      "le degre de s_4 est : 3\n"
     ]
    }
   ],
   "source": [
    "### Tester la fonction degre sur tous les sommet du graphe \n",
    "\n",
    "n = len(A)\n",
    "\n",
    "for i in range(n): \n",
    "    print(F\"le degre de s_{i} est : {degre(A, i)}\")"
   ]
  },
  {
   "cell_type": "code",
   "execution_count": 43,
   "metadata": {},
   "outputs": [],
   "source": [
    "def degremaximum(A): \n",
    "    L = []\n",
    "    n =len(A)\n",
    "\n",
    "    for i in range(n):\n",
    "        cpt = 0 \n",
    "        for j in range(n): \n",
    "            if A[i][j]==1: \n",
    "                cpt +=1 \n",
    "        L.append(cpt)\n",
    "        maxi = L[0]\n",
    "    for i in L : \n",
    "        if maxi < i : \n",
    "            maxi = i \n",
    "    return maxi   \n"
   ]
  },
  {
   "cell_type": "code",
   "execution_count": 44,
   "metadata": {},
   "outputs": [
    {
     "data": {
      "text/plain": [
       "4"
      ]
     },
     "execution_count": 44,
     "metadata": {},
     "output_type": "execute_result"
    }
   ],
   "source": [
    "degremaximum(A)"
   ]
  },
  {
   "cell_type": "code",
   "execution_count": 94,
   "metadata": {},
   "outputs": [],
   "source": [
    "def f(x):\n",
    "    return x[1]\n",
    "\n",
    "def degremax(A, f=None): \n",
    "\n",
    "    n = len(A)\n",
    "    L = []\n",
    "    for i in range(n): \n",
    "        L.append((i,degre(A, i)))\n",
    "\n",
    "    tmp = sorted(L,key=f)\n",
    "\n",
    "    return tmp[-1]\n",
    "\n"
   ]
  },
  {
   "cell_type": "code",
   "execution_count": 95,
   "metadata": {},
   "outputs": [],
   "source": [
    "sommet, degree = degremax(A, f)"
   ]
  },
  {
   "cell_type": "code",
   "execution_count": 96,
   "metadata": {},
   "outputs": [
    {
     "data": {
      "text/plain": [
       "2"
      ]
     },
     "execution_count": 96,
     "metadata": {},
     "output_type": "execute_result"
    }
   ],
   "source": [
    "sommet "
   ]
  },
  {
   "cell_type": "code",
   "execution_count": 97,
   "metadata": {},
   "outputs": [
    {
     "data": {
      "text/plain": [
       "4"
      ]
     },
     "execution_count": 97,
     "metadata": {},
     "output_type": "execute_result"
    }
   ],
   "source": [
    "degree"
   ]
  },
  {
   "cell_type": "code",
   "execution_count": 72,
   "metadata": {},
   "outputs": [
    {
     "data": {
      "text/plain": [
       "[(3, -3), (1, -1), (3, 4)]"
      ]
     },
     "execution_count": 72,
     "metadata": {},
     "output_type": "execute_result"
    }
   ],
   "source": [
    "sorted(L, key=f)"
   ]
  },
  {
   "cell_type": "code",
   "execution_count": 65,
   "metadata": {},
   "outputs": [
    {
     "name": "stdout",
     "output_type": "stream",
     "text": [
      "Help on method_descriptor:\n",
      "\n",
      "sort(self, /, *, key=None, reverse=False)\n",
      "    Sort the list in ascending order and return None.\n",
      "    \n",
      "    The sort is in-place (i.e. the list itself is modified) and stable (i.e. the\n",
      "    order of two equal elements is maintained).\n",
      "    \n",
      "    If a key function is given, apply it once to each list item and sort them,\n",
      "    ascending or descending, according to their function values.\n",
      "    \n",
      "    The reverse flag can be set to sort in descending order.\n",
      "\n"
     ]
    }
   ],
   "source": [
    "help(list.sort)"
   ]
  },
  {
   "cell_type": "code",
   "execution_count": 90,
   "metadata": {},
   "outputs": [],
   "source": [
    "L = [(1,-3) ,(2,-5),(3,-6)]"
   ]
  },
  {
   "cell_type": "code",
   "execution_count": 89,
   "metadata": {},
   "outputs": [
    {
     "data": {
      "text/plain": [
       "[1, 2, 3, 4]"
      ]
     },
     "execution_count": 89,
     "metadata": {},
     "output_type": "execute_result"
    }
   ],
   "source": [
    "sorted(L)"
   ]
  },
  {
   "cell_type": "code",
   "execution_count": 91,
   "metadata": {},
   "outputs": [],
   "source": [
    "L =list(range(4))"
   ]
  },
  {
   "cell_type": "code",
   "execution_count": 92,
   "metadata": {},
   "outputs": [
    {
     "data": {
      "text/plain": [
       "[0, 1, 2, 3]"
      ]
     },
     "execution_count": 92,
     "metadata": {},
     "output_type": "execute_result"
    }
   ],
   "source": [
    "L "
   ]
  },
  {
   "cell_type": "code",
   "execution_count": 93,
   "metadata": {},
   "outputs": [
    {
     "data": {
      "text/plain": [
       "3"
      ]
     },
     "execution_count": 93,
     "metadata": {},
     "output_type": "execute_result"
    }
   ],
   "source": [
    "L [-1 ]"
   ]
  },
  {
   "cell_type": "code",
   "execution_count": 102,
   "metadata": {},
   "outputs": [],
   "source": [
    "def somme(a , b=2):\n",
    "    return  a + b "
   ]
  },
  {
   "cell_type": "code",
   "execution_count": 103,
   "metadata": {},
   "outputs": [
    {
     "data": {
      "text/plain": [
       "3"
      ]
     },
     "execution_count": 103,
     "metadata": {},
     "output_type": "execute_result"
    }
   ],
   "source": [
    "somme(1)"
   ]
  },
  {
   "cell_type": "code",
   "execution_count": 113,
   "metadata": {},
   "outputs": [],
   "source": [
    "def mon_decorateur(f):\n",
    "    print(f.__name__ + ' appelé')\n",
    "    return f()"
   ]
  },
  {
   "cell_type": "code",
   "execution_count": 122,
   "metadata": {},
   "outputs": [],
   "source": [
    "def mon_decorateur(f): \n",
    "    print(f.__name__ + ' appele')\n",
    "    return f()\n",
    "\n",
    "\n",
    "def f(): \n",
    "    print(\"Bonjour Mr SY\")\n"
   ]
  },
  {
   "cell_type": "code",
   "execution_count": 123,
   "metadata": {},
   "outputs": [
    {
     "name": "stdout",
     "output_type": "stream",
     "text": [
      "f appele\n",
      "Bonjour Mr SY\n"
     ]
    }
   ],
   "source": []
  },
  {
   "cell_type": "code",
   "execution_count": 120,
   "metadata": {},
   "outputs": [
    {
     "name": "stdout",
     "output_type": "stream",
     "text": [
      "f appele\n",
      "Bonjour Mr SY\n"
     ]
    }
   ],
   "source": [
    "@mon_decorateur\n",
    "def f(): \n",
    "    print(\"Bonjour Mr SY\")"
   ]
  },
  {
   "cell_type": "code",
   "execution_count": 140,
   "metadata": {},
   "outputs": [],
   "source": [
    "def g():\n",
    "    a= 1 \n",
    "    def f(b): \n",
    "        return a + b\n",
    "    return f"
   ]
  },
  {
   "cell_type": "code",
   "execution_count": 144,
   "metadata": {},
   "outputs": [
    {
     "data": {
      "text/plain": [
       "4"
      ]
     },
     "execution_count": 144,
     "metadata": {},
     "output_type": "execute_result"
    }
   ],
   "source": [
    "@g\n"
   ]
  },
  {
   "cell_type": "code",
   "execution_count": 160,
   "metadata": {},
   "outputs": [],
   "source": [
    "class NbAppel:\n",
    "    def __init__(self,f=None):\n",
    "        self.f = f \n",
    "        self.appel = 0 \n",
    "\n",
    "    def __call__(self, *t, **d):\n",
    "        self.appel += 1 \n",
    "        s = f'{self.f.__name__}:{self.appel} appel'\n",
    "        print(s)\n",
    "        return self.f(*t, **d)\n",
    "    "
   ]
  },
  {
   "cell_type": "code",
   "execution_count": 161,
   "metadata": {},
   "outputs": [],
   "source": [
    "@ NbAppel\n",
    "def g():\n",
    "    print(\"Bonjour\")"
   ]
  },
  {
   "cell_type": "code",
   "execution_count": 164,
   "metadata": {},
   "outputs": [
    {
     "name": "stdout",
     "output_type": "stream",
     "text": [
      "g:3 appel\n",
      "Bonjour\n"
     ]
    }
   ],
   "source": []
  },
  {
   "cell_type": "code",
   "execution_count": 152,
   "metadata": {},
   "outputs": [
    {
     "data": {
      "text/plain": [
       "2"
      ]
     },
     "execution_count": 152,
     "metadata": {},
     "output_type": "execute_result"
    }
   ],
   "source": [
    "a.appel\n"
   ]
  },
  {
   "cell_type": "code",
   "execution_count": 1,
   "metadata": {},
   "outputs": [],
   "source": [
    "## representation du graphe sous forme liste adjacence \n",
    "G = {\n",
    "    1:[2,5,8], \n",
    "    2:[1,3,6],\n",
    "    3:[2,4,5],\n",
    "    4:[3,7],\n",
    "    5:[1,3,6,9],\n",
    "    6:[2,5,7],\n",
    "    7:[4,6,10],\n",
    "    8:[1,9],\n",
    "    9:[5,8,10],\n",
    "    10:[7,9],\n",
    "}"
   ]
  },
  {
   "cell_type": "code",
   "execution_count": 3,
   "metadata": {},
   "outputs": [
    {
     "ename": "SyntaxError",
     "evalue": "invalid non-printable character U+00A0 (1660980841.py, line 3)",
     "output_type": "error",
     "traceback": [
      "\u001b[0;36m  File \u001b[0;32m\"/var/folders/sq/462l7_3n27v2bh21r8_xxnkh0000gn/T/ipykernel_36089/1660980841.py\"\u001b[0;36m, line \u001b[0;32m3\u001b[0m\n\u001b[0;31m    return visited\u001b[0m\n\u001b[0m                  ^\u001b[0m\n\u001b[0;31mSyntaxError\u001b[0m\u001b[0;31m:\u001b[0m invalid non-printable character U+00A0\n"
     ]
    }
   ],
   "source": []
  },
  {
   "cell_type": "code",
   "execution_count": null,
   "metadata": {},
   "outputs": [],
   "source": []
  }
 ],
 "metadata": {
  "interpreter": {
   "hash": "ae728774eee256562aff2651c76309c3916f29437b55f618701e1f4834ebef1b"
  },
  "kernelspec": {
   "display_name": "Python 3.9.7 ('env_tensorflow')",
   "language": "python",
   "name": "python3"
  },
  "language_info": {
   "codemirror_mode": {
    "name": "ipython",
    "version": 3
   },
   "file_extension": ".py",
   "mimetype": "text/x-python",
   "name": "python",
   "nbconvert_exporter": "python",
   "pygments_lexer": "ipython3",
   "version": "3.9.7"
  },
  "orig_nbformat": 4
 },
 "nbformat": 4,
 "nbformat_minor": 2
}
