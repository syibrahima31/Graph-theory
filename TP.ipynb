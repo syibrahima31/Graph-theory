{
 "cells": [
  {
   "cell_type": "markdown",
   "metadata": {},
   "source": [
    "#### Partie I "
   ]
  },
  {
   "cell_type": "code",
   "execution_count": 21,
   "metadata": {},
   "outputs": [],
   "source": [
    "import numpy as np "
   ]
  },
  {
   "cell_type": "code",
   "execution_count": 22,
   "metadata": {},
   "outputs": [
    {
     "data": {
      "text/plain": [
       "list"
      ]
     },
     "execution_count": 22,
     "metadata": {},
     "output_type": "execute_result"
    }
   ],
   "source": [
    "#### Question 1 \n",
    "\n",
    "A = [\n",
    "    [0, 0, 1, 0, 1], \n",
    "    [0, 0, 1, 0, 1], \n",
    "    [1, 1, 0, 1, 1], \n",
    "    [0, 0, 1, 0, 0],\n",
    "    [1, 1, 1, 0, 0],\n",
    "]\n",
    "type(A)"
   ]
  },
  {
   "cell_type": "code",
   "execution_count": 35,
   "metadata": {},
   "outputs": [
    {
     "data": {
      "text/plain": [
       "numpy.ndarray"
      ]
     },
     "execution_count": 35,
     "metadata": {},
     "output_type": "execute_result"
    }
   ],
   "source": [
    "A_np = np.array([\n",
    "    [0, 0, 1, 0, 1], \n",
    "    [0, 0, 1, 0, 1], \n",
    "    [1, 1, 0, 1, 1], \n",
    "    [0, 0, 1, 0, 0],\n",
    "    [1, 1, 1, 0, 0],\n",
    "])\n",
    "type(A_np)"
   ]
  },
  {
   "cell_type": "code",
   "execution_count": 24,
   "metadata": {},
   "outputs": [],
   "source": [
    "#### Question \n",
    "\n",
    "def arrete(A:list, s_intiale:int , s_final:int) -> bool : \n",
    "    \"\"\"detecte la presence d'une arrete entre deux sommet \n",
    "\n",
    "    Args:\n",
    "        A (list): la matrice d'adjacence du graphe \n",
    "        s_intiale (int): le sommet initiale \n",
    "        s_final (int): le sommet finale \n",
    "\n",
    "    Returns:\n",
    "        bool: la fonction retourne True s'il ya presence d'une arrete et False dans le cas contraire \n",
    "    \"\"\"\n",
    "    if A[s_intiale][s_final]== 1 : \n",
    "        return True \n",
    "    return False \n"
   ]
  },
  {
   "cell_type": "code",
   "execution_count": 7,
   "metadata": {},
   "outputs": [
    {
     "data": {
      "text/plain": [
       "True"
      ]
     },
     "execution_count": 7,
     "metadata": {},
     "output_type": "execute_result"
    }
   ],
   "source": [
    "arrete(A, 1,4)"
   ]
  },
  {
   "cell_type": "code",
   "execution_count": 8,
   "metadata": {},
   "outputs": [
    {
     "name": "stdout",
     "output_type": "stream",
     "text": [
      "Help on function arrete in module __main__:\n",
      "\n",
      "arrete(A: list, s_intiale: int, s_final: int) -> bool\n",
      "    detecte la presence d'une arrete entre deux sommet \n",
      "    \n",
      "    Args:\n",
      "        A (list): la matrice d'adjacence du graphe \n",
      "        s_intiale (int): le sommet initiale \n",
      "        s_final (int): le sommet finale \n",
      "    \n",
      "    Returns:\n",
      "        bool: la fonction retourne True s'il ya presence d'une arrete et False dans le cas contraire\n",
      "\n"
     ]
    }
   ],
   "source": [
    "help(arrete)"
   ]
  },
  {
   "cell_type": "code",
   "execution_count": 9,
   "metadata": {},
   "outputs": [],
   "source": [
    "assert arrete(A, 1,2) == True \n",
    "assert arrete(A, 3,4) == False \n",
    "assert arrete(A, 4,0) == True \n"
   ]
  },
  {
   "cell_type": "code",
   "execution_count": 10,
   "metadata": {},
   "outputs": [],
   "source": [
    "def voisin(A, sommet): \n",
    "\n",
    "    L = A[sommet]\n",
    "\n",
    "    n = len(A)\n",
    "\n",
    "    i = 0 \n",
    "\n",
    "    while i < n : \n",
    "        if arrete(A,sommet,i) == 1 : \n",
    "            print(f\"le sommet s_{sommet} est voisin avec s_{i}\")\n",
    "        \n",
    "        i += 1 \n",
    "\n"
   ]
  },
  {
   "cell_type": "code",
   "execution_count": 11,
   "metadata": {},
   "outputs": [
    {
     "name": "stdout",
     "output_type": "stream",
     "text": [
      "le sommet s_2 est voisin avec s_0\n",
      "le sommet s_2 est voisin avec s_1\n",
      "le sommet s_2 est voisin avec s_3\n",
      "le sommet s_2 est voisin avec s_4\n"
     ]
    }
   ],
   "source": [
    "voisin(A, 2)"
   ]
  },
  {
   "cell_type": "code",
   "execution_count": 12,
   "metadata": {},
   "outputs": [],
   "source": [
    "## Partie II \n"
   ]
  },
  {
   "cell_type": "code",
   "execution_count": 29,
   "metadata": {},
   "outputs": [],
   "source": [
    "# premier implementation de dgre sans  utiliser la fonction \n",
    "def degre(A, s): \n",
    "    L = A[s]\n",
    "    compteur = 0 \n",
    "\n",
    "    for i in L : \n",
    "        if i ==1 : \n",
    "            compteur +=1 \n",
    "\n",
    "    return compteur"
   ]
  },
  {
   "cell_type": "code",
   "execution_count": 30,
   "metadata": {},
   "outputs": [],
   "source": [
    "# dexieme implementation (utiliser la fonction arrete )"
   ]
  },
  {
   "cell_type": "code",
   "execution_count": 32,
   "metadata": {},
   "outputs": [],
   "source": [
    "def degre_bis(A, s): \n",
    "    n = len(A)\n",
    "    compteur = 0 \n",
    "    i= 0 \n",
    "\n",
    "    while i < n: \n",
    "        if arrete(A, s, i) == True: \n",
    "            compteur += 1 \n",
    "        i += 1 \n",
    "    return compteur\n",
    "        \n",
    "\n",
    "\n",
    "\n"
   ]
  },
  {
   "cell_type": "code",
   "execution_count": 34,
   "metadata": {},
   "outputs": [
    {
     "data": {
      "text/plain": [
       "1"
      ]
     },
     "execution_count": 34,
     "metadata": {},
     "output_type": "execute_result"
    }
   ],
   "source": [
    "degre_bis(A, 3)"
   ]
  },
  {
   "cell_type": "code",
   "execution_count": 36,
   "metadata": {},
   "outputs": [],
   "source": [
    "def degre_np(A, s): \n",
    "    return A[s].sum()"
   ]
  },
  {
   "cell_type": "code",
   "execution_count": 38,
   "metadata": {},
   "outputs": [
    {
     "data": {
      "text/plain": [
       "1"
      ]
     },
     "execution_count": 38,
     "metadata": {},
     "output_type": "execute_result"
    }
   ],
   "source": [
    "degre_np(A_np, 3)"
   ]
  },
  {
   "cell_type": "code",
   "execution_count": 42,
   "metadata": {},
   "outputs": [
    {
     "name": "stdout",
     "output_type": "stream",
     "text": [
      "le degre de s_0 est : 2\n",
      "le degre de s_1 est : 2\n",
      "le degre de s_2 est : 4\n",
      "le degre de s_3 est : 1\n",
      "le degre de s_4 est : 3\n"
     ]
    }
   ],
   "source": [
    "### Tester la fonction degre sur tous les sommet du graphe \n",
    "\n",
    "n = len(A)\n",
    "\n",
    "for i in range(n): \n",
    "    print(F\"le degre de s_{i} est : {degre(A, i)}\")"
   ]
  },
  {
   "cell_type": "code",
   "execution_count": 43,
   "metadata": {},
   "outputs": [],
   "source": [
    "def degremaximum(A): \n",
    "    L = []\n",
    "    n =len(A)\n",
    "\n",
    "    for i in range(n):\n",
    "        cpt = 0 \n",
    "        for j in range(n): \n",
    "            if A[i][j]==1: \n",
    "                cpt +=1 \n",
    "        L.append(cpt)\n",
    "        maxi = L[0]\n",
    "    for i in L : \n",
    "        if maxi < i : \n",
    "            maxi = i \n",
    "    return maxi   \n"
   ]
  },
  {
   "cell_type": "code",
   "execution_count": 44,
   "metadata": {},
   "outputs": [
    {
     "data": {
      "text/plain": [
       "4"
      ]
     },
     "execution_count": 44,
     "metadata": {},
     "output_type": "execute_result"
    }
   ],
   "source": [
    "degremaximum(A)"
   ]
  },
  {
   "cell_type": "code",
   "execution_count": 56,
   "metadata": {},
   "outputs": [],
   "source": [
    "def degremax(A): \n",
    "\n",
    "    n = len(A)\n",
    "    d = {}\n",
    "    for i in range(n): \n",
    "        d[i] = degre(A, i)\n",
    "s\n",
    "\n",
    "\n",
    "    return d \n",
    "\n"
   ]
  },
  {
   "cell_type": "code",
   "execution_count": 57,
   "metadata": {},
   "outputs": [
    {
     "data": {
      "text/plain": [
       "{0: 2, 1: 2, 2: 4, 3: 1, 4: 3}"
      ]
     },
     "execution_count": 57,
     "metadata": {},
     "output_type": "execute_result"
    }
   ],
   "source": [
    "degremax(A)"
   ]
  },
  {
   "cell_type": "code",
   "execution_count": 70,
   "metadata": {},
   "outputs": [],
   "source": [
    "L= [(1,-1),(3,4), (3, -3)]"
   ]
  },
  {
   "cell_type": "code",
   "execution_count": 71,
   "metadata": {},
   "outputs": [],
   "source": [
    "def f(x):\n",
    "    return x[1]"
   ]
  },
  {
   "cell_type": "code",
   "execution_count": 72,
   "metadata": {},
   "outputs": [
    {
     "data": {
      "text/plain": [
       "[(3, -3), (1, -1), (3, 4)]"
      ]
     },
     "execution_count": 72,
     "metadata": {},
     "output_type": "execute_result"
    }
   ],
   "source": [
    "sorted(L, key=f)"
   ]
  },
  {
   "cell_type": "code",
   "execution_count": 65,
   "metadata": {},
   "outputs": [
    {
     "name": "stdout",
     "output_type": "stream",
     "text": [
      "Help on method_descriptor:\n",
      "\n",
      "sort(self, /, *, key=None, reverse=False)\n",
      "    Sort the list in ascending order and return None.\n",
      "    \n",
      "    The sort is in-place (i.e. the list itself is modified) and stable (i.e. the\n",
      "    order of two equal elements is maintained).\n",
      "    \n",
      "    If a key function is given, apply it once to each list item and sort them,\n",
      "    ascending or descending, according to their function values.\n",
      "    \n",
      "    The reverse flag can be set to sort in descending order.\n",
      "\n"
     ]
    }
   ],
   "source": [
    "help(list.sort)"
   ]
  },
  {
   "cell_type": "code",
   "execution_count": null,
   "metadata": {},
   "outputs": [],
   "source": []
  }
 ],
 "metadata": {
  "interpreter": {
   "hash": "ae728774eee256562aff2651c76309c3916f29437b55f618701e1f4834ebef1b"
  },
  "kernelspec": {
   "display_name": "Python 3.9.7 ('env_tensorflow')",
   "language": "python",
   "name": "python3"
  },
  "language_info": {
   "codemirror_mode": {
    "name": "ipython",
    "version": 3
   },
   "file_extension": ".py",
   "mimetype": "text/x-python",
   "name": "python",
   "nbconvert_exporter": "python",
   "pygments_lexer": "ipython3",
   "version": "3.9.7"
  },
  "orig_nbformat": 4
 },
 "nbformat": 4,
 "nbformat_minor": 2
}
