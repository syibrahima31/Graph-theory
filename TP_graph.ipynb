{
 "cells": [
  {
   "cell_type": "markdown",
   "metadata": {},
   "source": [
    "#### Exercice 1 : \n",
    "\n",
    "1. D ́eclarer une variable A qui remplit la matrice d’adjacence avec le graphe non-orient ́e suivant :"
   ]
  },
  {
   "cell_type": "code",
   "execution_count": 17,
   "metadata": {},
   "outputs": [],
   "source": [
    "A = [\n",
    "    [0, 0, 1,0,1],\n",
    "    [0, 0, 1,0,1],\n",
    "    [1, 1, 0,1,1],\n",
    "    [0, 0, 1,0,0],\n",
    "    [1,1,1,0,0]\n",
    "]    "
   ]
  },
  {
   "cell_type": "code",
   "execution_count": 31,
   "metadata": {},
   "outputs": [],
   "source": [
    "def arrete(A, sommet_i:int, sommet_j:int)->bool:\n",
    "    \"\"\"determine la presence dune arrete \n",
    "\n",
    "        args : \n",
    "            sommet_i(int)\n",
    "            sommet_j(int)\n",
    "\n",
    "        return:\n",
    "            bool (cette fonction retourne un booléen)\n",
    "    \"\"\"\n",
    "\n",
    "    if A[sommet_i][sommet_j]== 1 : \n",
    "        return True \n",
    "    return False \n"
   ]
  },
  {
   "cell_type": "markdown",
   "metadata": {},
   "source": [
    "#### Implementation avec numpy "
   ]
  },
  {
   "cell_type": "code",
   "execution_count": 47,
   "metadata": {},
   "outputs": [],
   "source": [
    "import numpy as np\n",
    "\n",
    "A_np = np.array(A)\n",
    "\n",
    "def arrete_np(A, sommet_i, sommet_j): \n",
    "\n",
    "    if A[sommet_i, sommet_j]== 1 :\n",
    "        return True \n",
    "    return  False "
   ]
  },
  {
   "cell_type": "code",
   "execution_count": 48,
   "metadata": {},
   "outputs": [
    {
     "data": {
      "text/plain": [
       "True"
      ]
     },
     "execution_count": 48,
     "metadata": {},
     "output_type": "execute_result"
    }
   ],
   "source": [
    "arrete_np(A_np, 1,2)"
   ]
  },
  {
   "cell_type": "code",
   "execution_count": 32,
   "metadata": {},
   "outputs": [],
   "source": [
    "assert arrete(A, sommet_i=0, sommet_j=2 ) == True \n",
    "assert arrete(A, sommet_i= 1, sommet_j=4 ) == True \n",
    "assert arrete(A, sommet_i=0, sommet_j=4)  ==  True  "
   ]
  },
  {
   "cell_type": "code",
   "execution_count": 35,
   "metadata": {},
   "outputs": [],
   "source": [
    "def voisin(A, sommet): \n",
    "    i=0 \n",
    "\n",
    "    while i<len(A) :\n",
    "        if arrete(A, sommet, i)==1 : \n",
    "            print(f\"s_{sommet} est voisin avec s_{i}\") \n",
    "\n",
    "        i += 1 \n"
   ]
  },
  {
   "cell_type": "markdown",
   "metadata": {},
   "source": [
    "#### implementation avec numpy "
   ]
  },
  {
   "cell_type": "code",
   "execution_count": 52,
   "metadata": {},
   "outputs": [],
   "source": [
    "def nb_voisin_np(A, sommet): \n",
    "    return A[sommet].sum()"
   ]
  },
  {
   "cell_type": "code",
   "execution_count": 53,
   "metadata": {},
   "outputs": [
    {
     "data": {
      "text/plain": [
       "2"
      ]
     },
     "execution_count": 53,
     "metadata": {},
     "output_type": "execute_result"
    }
   ],
   "source": [
    "nb_voisin_np(A_np, 0)"
   ]
  },
  {
   "cell_type": "code",
   "execution_count": 36,
   "metadata": {},
   "outputs": [
    {
     "name": "stdout",
     "output_type": "stream",
     "text": [
      "s_0 est voisin avec s_2\n",
      "s_0 est voisin avec s_4\n"
     ]
    }
   ],
   "source": [
    "voisin(A, sommet=0)"
   ]
  },
  {
   "cell_type": "code",
   "execution_count": 43,
   "metadata": {},
   "outputs": [],
   "source": [
    "def voisin_bis(A, sommet): \n",
    "    \n",
    "    L = A[sommet]\n",
    "\n",
    "    for index, i  in enumerate(L): \n",
    "        if i==1 : \n",
    "            print(f\"s_{sommet} est voisin avec s_{index}\")\n",
    "    "
   ]
  },
  {
   "cell_type": "code",
   "execution_count": 44,
   "metadata": {},
   "outputs": [
    {
     "name": "stdout",
     "output_type": "stream",
     "text": [
      "s_1 est voisin avec s_2\n",
      "s_1 est voisin avec s_4\n"
     ]
    }
   ],
   "source": [
    "voisin_bis(A, sommet=1)"
   ]
  },
  {
   "cell_type": "code",
   "execution_count": 49,
   "metadata": {},
   "outputs": [],
   "source": [
    "def nb_voisin(A, sommet): \n",
    "    i=0 \n",
    "    compteur = 0 \n",
    "\n",
    "    while i<len(A) :\n",
    "        if arrete(A, sommet, i)==1 : \n",
    "            compteur += 1 \n",
    "        i += 1 \n",
    "\n",
    "\n",
    "    return compteur\n"
   ]
  },
  {
   "cell_type": "code",
   "execution_count": 51,
   "metadata": {},
   "outputs": [
    {
     "data": {
      "text/plain": [
       "1"
      ]
     },
     "execution_count": 51,
     "metadata": {},
     "output_type": "execute_result"
    }
   ],
   "source": [
    "nb_voisin(A, 3)"
   ]
  },
  {
   "cell_type": "code",
   "execution_count": null,
   "metadata": {},
   "outputs": [],
   "source": []
  }
 ],
 "metadata": {
  "interpreter": {
   "hash": "ae728774eee256562aff2651c76309c3916f29437b55f618701e1f4834ebef1b"
  },
  "kernelspec": {
   "display_name": "Python 3.9.7 ('env_tensorflow')",
   "language": "python",
   "name": "python3"
  },
  "language_info": {
   "codemirror_mode": {
    "name": "ipython",
    "version": 3
   },
   "file_extension": ".py",
   "mimetype": "text/x-python",
   "name": "python",
   "nbconvert_exporter": "python",
   "pygments_lexer": "ipython3",
   "version": "3.9.7"
  },
  "orig_nbformat": 4
 },
 "nbformat": 4,
 "nbformat_minor": 2
}
