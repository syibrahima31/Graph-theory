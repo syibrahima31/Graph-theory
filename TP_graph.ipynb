{
 "cells": [
  {
   "cell_type": "markdown",
   "metadata": {},
   "source": [
    "#### Exercice 1 : \n",
    "\n",
    "1. D ́eclarer une variable A qui remplit la matrice d’adjacence avec le graphe non-orient ́e suivant :"
   ]
  },
  {
   "cell_type": "code",
   "execution_count": 17,
   "metadata": {},
   "outputs": [],
   "source": [
    "A = [\n",
    "    [0, 0, 1,0,1],\n",
    "    [0, 0, 1,0,1],\n",
    "    [1, 1, 0,1,1],\n",
    "    [0, 0, 1,0,0],\n",
    "    [1,1,1,0,0]\n",
    "]    "
   ]
  },
  {
   "cell_type": "code",
   "execution_count": 18,
   "metadata": {},
   "outputs": [],
   "source": [
    "def arrete(A, sommet_i:int, sommet_j:int)->bool:\n",
    "    \"\"\"determine la presence dune arrete \n",
    "\n",
    "        args : \n",
    "            sommet_i(int)\n",
    "            sommet_j(int)\n",
    "\n",
    "        return:\n",
    "            bool (cette fonction retourne un booléen)\n",
    "    \"\"\"\n",
    "\n",
    "    if A[sommet_i][sommet_j]== 1 : \n",
    "        return True \n",
    "    return False \n"
   ]
  },
  {
   "cell_type": "code",
   "execution_count": 27,
   "metadata": {},
   "outputs": [],
   "source": [
    "assert arrete(A, sommet_i=0, sommet_j=2 ) == True \n",
    "assert arrete(A, sommet_i= 1, sommet_j=4 ) == True \n",
    "assert arrete(A, sommet_i=0, sommet_j=4)  ==  True  "
   ]
  },
  {
   "cell_type": "code",
   "execution_count": null,
   "metadata": {},
   "outputs": [],
   "source": []
  },
  {
   "cell_type": "code",
   "execution_count": null,
   "metadata": {},
   "outputs": [],
   "source": []
  }
 ],
 "metadata": {
  "interpreter": {
   "hash": "ae728774eee256562aff2651c76309c3916f29437b55f618701e1f4834ebef1b"
  },
  "kernelspec": {
   "display_name": "Python 3.9.7 ('env_tensorflow')",
   "language": "python",
   "name": "python3"
  },
  "language_info": {
   "codemirror_mode": {
    "name": "ipython",
    "version": 3
   },
   "file_extension": ".py",
   "mimetype": "text/x-python",
   "name": "python",
   "nbconvert_exporter": "python",
   "pygments_lexer": "ipython3",
   "version": "3.9.7"
  },
  "orig_nbformat": 4
 },
 "nbformat": 4,
 "nbformat_minor": 2
}
