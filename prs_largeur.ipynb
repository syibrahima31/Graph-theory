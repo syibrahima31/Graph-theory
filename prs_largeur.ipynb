{
 "cells": [
  {
   "cell_type": "code",
   "execution_count": 1,
   "metadata": {},
   "outputs": [],
   "source": [
    "G = {\n",
    "    1 :[2, 5, 8], \n",
    "    2 :[1, 3, 6],\n",
    "    3 :[2, 5, 4],\n",
    "    4 :[3, 7],\n",
    "    5 :[3, 6, 9, 1],\n",
    "    6 :[2, 5, 7], \n",
    "    7 :[6, 4, 10], \n",
    "    8 :[1, 9], \n",
    "    9 :[8, 10, 5], \n",
    "    10 :[9, 7]\n",
    "}"
   ]
  },
  {
   "cell_type": "code",
   "execution_count": 44,
   "metadata": {},
   "outputs": [],
   "source": [
    "def pluscourtchemin(G, u, v): \n",
    "    \"\"\"_summary_\n",
    "\n",
    "    Args:\n",
    "        G (dict): represente le graphe \n",
    "        u (int): le sommet de depart\n",
    "        v (int): le sommet final \n",
    "    \"\"\"\n",
    "\n",
    "    visite = {k:None for k in G.keys()} \n",
    "    visite[u] = u \n",
    "    file = [u]\n",
    "    fini = True \n",
    "\n",
    "    while file and fini: \n",
    "        w = file.pop(0)\n",
    "     \n",
    "        for z in G[w]: \n",
    "            if visite[z] is None: \n",
    "                visite[z] = w \n",
    "                file.append(z)\n",
    "\n",
    "                if z == v : \n",
    "                    fini = False\n",
    "\n",
    "    if visite[v] is None: \n",
    "        return f\" il ya pas de chemin entre  les sommets {u} et {v}\"\n",
    "\n",
    "    \n",
    "    # reconstruire le chemin \n",
    "\n",
    "    C = [v]\n",
    "    w = v \n",
    "\n",
    "    while w != u :\n",
    "        w = visite[w]\n",
    "        C.insert(0,w)\n",
    "\n",
    "\n",
    "\n",
    "\n",
    "    return C"
   ]
  },
  {
   "cell_type": "code",
   "execution_count": 45,
   "metadata": {},
   "outputs": [
    {
     "data": {
      "text/plain": [
       "[1, 2, 6, 7]"
      ]
     },
     "execution_count": 45,
     "metadata": {},
     "output_type": "execute_result"
    }
   ],
   "source": [
    "pluscourtchemin(G, u=1, v=7 )"
   ]
  },
  {
   "cell_type": "code",
   "execution_count": 47,
   "metadata": {},
   "outputs": [],
   "source": [
    "from scipy.optimize import linprog\n",
    "import numpy as np "
   ]
  },
  {
   "cell_type": "code",
   "execution_count": 48,
   "metadata": {},
   "outputs": [],
   "source": [
    "A = np.array([\n",
    "    [1,1], \n",
    "    [6, 3], \n",
    "    [2, 6]\n",
    "])"
   ]
  },
  {
   "cell_type": "code",
   "execution_count": 50,
   "metadata": {},
   "outputs": [],
   "source": [
    "c =np.array([18000, 27000])\n",
    "B = np.array([18, 90, 72])"
   ]
  },
  {
   "cell_type": "code",
   "execution_count": 58,
   "metadata": {},
   "outputs": [],
   "source": [
    "res = linprog(c= -c , A_ub=A, b_ub=B, method=\"simplex\")"
   ]
  },
  {
   "cell_type": "code",
   "execution_count": 59,
   "metadata": {},
   "outputs": [
    {
     "data": {
      "text/plain": [
       "array([9., 9.])"
      ]
     },
     "execution_count": 59,
     "metadata": {},
     "output_type": "execute_result"
    }
   ],
   "source": [
    "res.x"
   ]
  },
  {
   "cell_type": "code",
   "execution_count": 60,
   "metadata": {},
   "outputs": [
    {
     "data": {
      "text/plain": [
       "     con: array([], dtype=float64)\n",
       "     fun: -405000.0\n",
       " message: 'Optimization terminated successfully.'\n",
       "     nit: 3\n",
       "   slack: array([0., 9., 0.])\n",
       "  status: 0\n",
       " success: True\n",
       "       x: array([9., 9.])"
      ]
     },
     "execution_count": 60,
     "metadata": {},
     "output_type": "execute_result"
    }
   ],
   "source": [
    "res \n"
   ]
  },
  {
   "cell_type": "code",
   "execution_count": null,
   "metadata": {},
   "outputs": [],
   "source": []
  },
  {
   "cell_type": "code",
   "execution_count": 66,
   "metadata": {},
   "outputs": [
    {
     "data": {
      "text/plain": [
       "array([], dtype=float64)"
      ]
     },
     "execution_count": 66,
     "metadata": {},
     "output_type": "execute_result"
    }
   ],
   "source": [
    "res.con "
   ]
  },
  {
   "cell_type": "code",
   "execution_count": null,
   "metadata": {},
   "outputs": [],
   "source": []
  },
  {
   "cell_type": "code",
   "execution_count": 67,
   "metadata": {},
   "outputs": [],
   "source": [
    "import numpy as np\n",
    "import pandas as pd \n",
    "\n",
    "\n"
   ]
  },
  {
   "cell_type": "code",
   "execution_count": null,
   "metadata": {},
   "outputs": [],
   "source": []
  }
 ],
 "metadata": {
  "interpreter": {
   "hash": "ae728774eee256562aff2651c76309c3916f29437b55f618701e1f4834ebef1b"
  },
  "kernelspec": {
   "display_name": "Python 3.9.7 ('env_tensorflow')",
   "language": "python",
   "name": "python3"
  },
  "language_info": {
   "codemirror_mode": {
    "name": "ipython",
    "version": 3
   },
   "file_extension": ".py",
   "mimetype": "text/x-python",
   "name": "python",
   "nbconvert_exporter": "python",
   "pygments_lexer": "ipython3",
   "version": "3.9.7"
  },
  "orig_nbformat": 4
 },
 "nbformat": 4,
 "nbformat_minor": 2
}
