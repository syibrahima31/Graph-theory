{
 "cells": [
  {
   "cell_type": "code",
   "execution_count": 3,
   "metadata": {},
   "outputs": [],
   "source": [
    "G = {\n",
    "    1 :[2, 5, 8], \n",
    "    2 :[1, 3, 6],\n",
    "    3 :[2, 5, 4],\n",
    "    4 :[3, 7],\n",
    "    5 :[3, 6, 9, 1],\n",
    "    6 :[2, 5, 7], \n",
    "    7 :[6, 4, 10], \n",
    "    8 :[1, 9], \n",
    "    9 :[8, 10, 5], \n",
    "    10 :[9, 7]\n",
    "}"
   ]
  },
  {
   "cell_type": "code",
   "execution_count": 23,
   "metadata": {},
   "outputs": [
    {
     "ename": "SyntaxError",
     "evalue": "invalid syntax (2934938011.py, line 31)",
     "output_type": "error",
     "traceback": [
      "\u001b[0;36m  File \u001b[0;32m\"/var/folders/sq/462l7_3n27v2bh21r8_xxnkh0000gn/T/ipykernel_97089/2934938011.py\"\u001b[0;36m, line \u001b[0;32m31\u001b[0m\n\u001b[0;31m    w =\u001b[0m\n\u001b[0m        ^\u001b[0m\n\u001b[0;31mSyntaxError\u001b[0m\u001b[0;31m:\u001b[0m invalid syntax\n"
     ]
    }
   ],
   "source": [
    "def pluscourtchemin(G, u, v):  \n",
    "    # creation visited qui garde \n",
    "    visited = {}\n",
    "    for sommet in G: \n",
    "        visited[sommet] = None\n",
    "    \n",
    "\n",
    "    visited[u] = u \n",
    "\n",
    "    file = [u]\n",
    "    fini = True \n",
    "\n",
    "    while  file  and fini:\n",
    "        w = file.pop(0)\n",
    "\n",
    "        for z in G[w]: \n",
    "            if visited[z] is None : \n",
    "                visited[z] = w \n",
    "                file.append(z)\n",
    "\n",
    "                if z == v : \n",
    "                    fini = False \n",
    "    \n",
    "\n",
    "    if  visited[v] is None: \n",
    "        return f\"Auncun de entre les sommets {u} et {v}\"\n",
    "\n",
    "    ## reconstruire le chemin entre le sommet u et v \n",
    "    C = [v]\n",
    "\n",
    "    w = \n",
    "     v \n",
    "    while w != u: \n",
    "        w = visited[w]\n",
    "        C.insert(0,w)\n",
    "    return C\n"
   ]
  },
  {
   "cell_type": "code",
   "execution_count": 22,
   "metadata": {},
   "outputs": [
    {
     "data": {
      "text/plain": [
       "[1, 2, 6, 7]"
      ]
     },
     "execution_count": 22,
     "metadata": {},
     "output_type": "execute_result"
    }
   ],
   "source": [
    "pluscourtchemin(G, u=1, v= 7)"
   ]
  },
  {
   "cell_type": "code",
   "execution_count": 10,
   "metadata": {},
   "outputs": [],
   "source": [
    "L = []\n",
    "\n",
    "\n",
    "if L : \n",
    "    print(\"ok\")"
   ]
  },
  {
   "cell_type": "code",
   "execution_count": 11,
   "metadata": {},
   "outputs": [],
   "source": [
    "L = [1, 2,3]"
   ]
  },
  {
   "cell_type": "code",
   "execution_count": 14,
   "metadata": {},
   "outputs": [
    {
     "data": {
      "text/plain": [
       "1"
      ]
     },
     "execution_count": 14,
     "metadata": {},
     "output_type": "execute_result"
    }
   ],
   "source": [
    "L.pop(0)"
   ]
  },
  {
   "cell_type": "code",
   "execution_count": 13,
   "metadata": {},
   "outputs": [
    {
     "data": {
      "text/plain": [
       "[1, 2]"
      ]
     },
     "execution_count": 13,
     "metadata": {},
     "output_type": "execute_result"
    }
   ],
   "source": [
    "L"
   ]
  },
  {
   "cell_type": "code",
   "execution_count": 15,
   "metadata": {},
   "outputs": [
    {
     "data": {
      "text/plain": [
       "{1: [2, 5, 8],\n",
       " 2: [1, 3, 6],\n",
       " 3: [2, 5, 4],\n",
       " 4: [3, 7],\n",
       " 5: [3, 6, 9, 1],\n",
       " 6: [2, 5, 7],\n",
       " 7: [6, 4, 10],\n",
       " 8: [1, 9],\n",
       " 9: [8, 10, 5],\n",
       " 10: [9, 7]}"
      ]
     },
     "execution_count": 15,
     "metadata": {},
     "output_type": "execute_result"
    }
   ],
   "source": [
    "G "
   ]
  },
  {
   "cell_type": "code",
   "execution_count": 18,
   "metadata": {},
   "outputs": [
    {
     "name": "stdout",
     "output_type": "stream",
     "text": [
      "8\n",
      "10\n",
      "5\n"
     ]
    }
   ],
   "source": [
    "for voisin in G[9]: \n",
    "    print(voisin)"
   ]
  },
  {
   "cell_type": "code",
   "execution_count": null,
   "metadata": {},
   "outputs": [],
   "source": []
  }
 ],
 "metadata": {
  "interpreter": {
   "hash": "ae728774eee256562aff2651c76309c3916f29437b55f618701e1f4834ebef1b"
  },
  "kernelspec": {
   "display_name": "Python 3.9.7 ('env_tensorflow')",
   "language": "python",
   "name": "python3"
  },
  "language_info": {
   "codemirror_mode": {
    "name": "ipython",
    "version": 3
   },
   "file_extension": ".py",
   "mimetype": "text/x-python",
   "name": "python",
   "nbconvert_exporter": "python",
   "pygments_lexer": "ipython3",
   "version": "3.9.7"
  },
  "orig_nbformat": 4
 },
 "nbformat": 4,
 "nbformat_minor": 2
}
