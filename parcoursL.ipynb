{
 "cells": [
  {
   "cell_type": "code",
   "execution_count": 1,
   "metadata": {},
   "outputs": [],
   "source": [
    "G = {\n",
    "    1 :[2, 5, 8], \n",
    "    2 :[1, 3, 6],\n",
    "    3 :[2, 5, 4],\n",
    "    4 :[3, 7],\n",
    "    5 :[3, 6, 9, 1],\n",
    "    6 :[2, 5, 7], \n",
    "    7 :[6, 4, 10], \n",
    "    8 :[1, 9], \n",
    "    9 :[8, 10, 5], \n",
    "    10 :[9, 7]\n",
    "}"
   ]
  },
  {
   "cell_type": "code",
   "execution_count": 5,
   "metadata": {},
   "outputs": [],
   "source": [
    "def pluscourtchemin(G, u, v): \n",
    "    visited = {k:None for k in G}\n",
    "    visited[u] = u \n",
    "    file = [u]\n",
    "    fini = True \n",
    "\n",
    "    while file and fini: \n",
    "        w = file.pop(0)\n",
    "\n",
    "        for z in G[w]: \n",
    "            if visited[z] is None: \n",
    "                visited[z] = w \n",
    "                file.append(z)\n",
    "\n",
    "                if z == v : \n",
    "                    fini = False \n",
    "\n",
    "    if visited[v] is None : \n",
    "        return f\"Il ya pas de chemin en les sommets {u} et {v}\"\n",
    "    \n",
    "    C = [v]\n",
    "    w = v \n",
    "\n",
    "    while w!=u : \n",
    "        w = visited[w]\n",
    "        C.insert(0,w)\n",
    "        \n",
    "\n",
    "    return C"
   ]
  },
  {
   "cell_type": "code",
   "execution_count": 6,
   "metadata": {},
   "outputs": [
    {
     "data": {
      "text/plain": [
       "[1, 2, 6, 7]"
      ]
     },
     "execution_count": 6,
     "metadata": {},
     "output_type": "execute_result"
    }
   ],
   "source": [
    "pluscourtchemin(G, 1, 7)"
   ]
  },
  {
   "cell_type": "code",
   "execution_count": null,
   "metadata": {},
   "outputs": [],
   "source": []
  }
 ],
 "metadata": {
  "interpreter": {
   "hash": "ae728774eee256562aff2651c76309c3916f29437b55f618701e1f4834ebef1b"
  },
  "kernelspec": {
   "display_name": "Python 3.9.7 ('env_tensorflow')",
   "language": "python",
   "name": "python3"
  },
  "language_info": {
   "codemirror_mode": {
    "name": "ipython",
    "version": 3
   },
   "file_extension": ".py",
   "mimetype": "text/x-python",
   "name": "python",
   "nbconvert_exporter": "python",
   "pygments_lexer": "ipython3",
   "version": "3.9.7"
  },
  "orig_nbformat": 4
 },
 "nbformat": 4,
 "nbformat_minor": 2
}
